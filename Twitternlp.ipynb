{
 "cells": [
  {
   "cell_type": "code",
   "execution_count": 1,
   "id": "967f75d0-97a8-40ad-8c49-43cf2f948285",
   "metadata": {
    "tags": []
   },
   "outputs": [],
   "source": [
    "import nltk"
   ]
  },
  {
   "cell_type": "code",
   "execution_count": 2,
   "id": "20a4372b-b328-4433-8fdf-836ef9e953bd",
   "metadata": {
    "tags": []
   },
   "outputs": [
    {
     "name": "stderr",
     "output_type": "stream",
     "text": [
      "[nltk_data] Downloading package twitter_samples to\n",
      "[nltk_data]     /home/user/nltk_data...\n",
      "[nltk_data]   Package twitter_samples is already up-to-date!\n"
     ]
    },
    {
     "data": {
      "text/plain": [
       "True"
      ]
     },
     "execution_count": 2,
     "metadata": {},
     "output_type": "execute_result"
    }
   ],
   "source": [
    "nltk.download(\"twitter_samples\")"
   ]
  },
  {
   "cell_type": "code",
   "execution_count": 3,
   "id": "9d3bbf4a-c73d-43f3-9967-2dafa7cba6fd",
   "metadata": {
    "tags": []
   },
   "outputs": [],
   "source": [
    "from nltk.corpus import twitter_samples"
   ]
  },
  {
   "cell_type": "code",
   "execution_count": 4,
   "id": "26f7a31b-6b9e-4618-98dc-85b07d849b1c",
   "metadata": {
    "tags": []
   },
   "outputs": [
    {
     "data": {
      "text/plain": [
       "3"
      ]
     },
     "execution_count": 4,
     "metadata": {},
     "output_type": "execute_result"
    }
   ],
   "source": [
    "len(twitter_samples.fileids())"
   ]
  },
  {
   "cell_type": "code",
   "execution_count": 5,
   "id": "19c53296-a984-47c8-837a-7c2d8ae518db",
   "metadata": {
    "tags": []
   },
   "outputs": [],
   "source": [
    "negative_fileids = twitter_samples.fileids()\n",
    "positive_fileids = twitter_samples.fileids()"
   ]
  },
  {
   "cell_type": "code",
   "execution_count": 6,
   "id": "339f668f-899f-4285-9683-4512f25aaaf3",
   "metadata": {},
   "outputs": [
    {
     "data": {
      "text/plain": [
       "(3, 3)"
      ]
     },
     "execution_count": 6,
     "metadata": {},
     "output_type": "execute_result"
    }
   ],
   "source": [
    "len(negative_fileids),len(positive_fileids )"
   ]
  },
  {
   "cell_type": "code",
   "execution_count": 11,
   "id": "0c62110f-d525-4c82-9d7c-f33db1645455",
   "metadata": {},
   "outputs": [
    {
     "name": "stdout",
     "output_type": "stream",
     "text": [
      "{\"in_reply_to_status_id\": null, \"contributors\": null, \"filter_level\": \"low\", \"coordinates\": null, \"id_str\": \"593891099434983425\", \"favorited\": false, \"created_at\": \"Thu Apr 30 21:34:06 +0000 2015\", \"favorite_count\": 0, \"in_reply_to_status_id_str\": null, \"retweeted_status\": {\"in_reply_to_status_id\": null, \"contributors\": null, \"filter_level\": \"low\", \"coordinates\": null, \"id_str\": \"593885295323521025\", \"favorited\": false, \"created_at\": \"Thu Apr 30 21:11:02 +0000 2015\", \"favorite_count\": 3, \"in_reply_to_status_id_str\": null, \"in_reply_to_user_id\": null, \"in_reply_to_screen_name\": null, \"place\": null, \"id\": 593885295323521025, \"retweeted\": false, \"truncated\": false, \"text\": \"Indirect cost of the UK being in the EU is estimated to be costing Britain \\u00a3170 billion per year! #BetterOffOut #UKIP\", \"in_reply_to_user_id_str\": null, \"lang\": \"en\", \"retweet_count\": 11, \"user\": {\"statuses_count\": 4589, \"id_str\": \"929903647\", \"followers_count\": 2973, \"listed_count\": 39, \"geo_enabled\": false, \"cre\n"
     ]
    }
   ],
   "source": [
    "print(twitter_samples.raw(fileids=positive_fileids[2])[:1000])"
   ]
  },
  {
   "cell_type": "code",
   "execution_count": 14,
   "id": "95fc33e4-6321-44c3-a7c8-4c498a077daf",
   "metadata": {},
   "outputs": [],
   "source": [
    "twitter_text=\"\"\"{\"in_reply_to_status_id\": null, \"contributors\": null, \"filter_level\": \"low\", \"coordinates\": null, \"id_str\": \"593891099434983425\", \"favorited\": false, \"created_at\": \"Thu Apr 30 21:34:06 +0000 2015\", \"favorite_count\": 0, \"in_reply_to_status_id_str\": null, \"retweeted_status\": {\"in_reply_to_status_id\": null, \"contributors\": null, \"filter_level\": \"low\", \"coordinates\": null, \"id_str\": \"593885295323521025\", \"favorited\": false, \"created_at\": \"Thu Apr 30 21:11:02 +0000 2015\", \"favorite_count\": 3, \"in_reply_to_status_id_str\": null, \"in_reply_to_user_id\": null, \"in_reply_to_screen_name\": null, \"place\": null, \"id\": 593885295323521025, \"retweeted\": false, \"truncated\": false, \"text\": \"Indirect cost of the UK being in the EU is estimated to be costing Britain \\u00a3170 billion per year! #BetterOffOut #UKIP\", \"in_reply_to_user_id_str\": null, \"lang\": \"en\", \"retweet_count\": 11, \"user\": {\"statuses_count\": 4589, \"id_str\": \"929903647\", \"followers_count\": 2973, \"listed_count\": 39, \"geo_enabled\": false, \"cre \"\"\""
   ]
  },
  {
   "cell_type": "code",
   "execution_count": 16,
   "id": "59c73133-ee26-4e20-a0df-7745b1e18d2e",
   "metadata": {
    "tags": []
   },
   "outputs": [
    {
     "data": {
      "text/plain": [
       "['{\"in_reply_to_status_id\":',\n",
       " 'null,',\n",
       " '\"contributors\":',\n",
       " 'null,',\n",
       " '\"filter_level\":',\n",
       " '\"low\",',\n",
       " '\"coordinates\":',\n",
       " 'null,',\n",
       " '\"id_str\":',\n",
       " '\"593891099434983425\",',\n",
       " '\"favorited\":',\n",
       " 'false,',\n",
       " '\"created_at\":',\n",
       " '\"Thu',\n",
       " 'Apr',\n",
       " '30',\n",
       " '21:34:06',\n",
       " '+0000',\n",
       " '2015\",',\n",
       " '\"favorite_count\":',\n",
       " '0,',\n",
       " '\"in_reply_to_status_id_str\":',\n",
       " 'null,',\n",
       " '\"retweeted_status\":',\n",
       " '{\"in_reply_to_status_id\":',\n",
       " 'null,',\n",
       " '\"contributors\":',\n",
       " 'null,',\n",
       " '\"filter_level\":',\n",
       " '\"low\",',\n",
       " '\"coordinates\":',\n",
       " 'null,',\n",
       " '\"id_str\":',\n",
       " '\"593885295323521025\",',\n",
       " '\"favorited\":',\n",
       " 'false,',\n",
       " '\"created_at\":',\n",
       " '\"Thu',\n",
       " 'Apr',\n",
       " '30',\n",
       " '21:11:02',\n",
       " '+0000',\n",
       " '2015\",',\n",
       " '\"favorite_count\":',\n",
       " '3,',\n",
       " '\"in_reply_to_status_id_str\":',\n",
       " 'null,',\n",
       " '\"in_reply_to_user_id\":',\n",
       " 'null,',\n",
       " '\"in_reply_to_screen_name\":',\n",
       " 'null,',\n",
       " '\"place\":',\n",
       " 'null,',\n",
       " '\"id\":',\n",
       " '593885295323521025,',\n",
       " '\"retweeted\":',\n",
       " 'false,',\n",
       " '\"truncated\":',\n",
       " 'false,',\n",
       " '\"text\":',\n",
       " '\"Indirect',\n",
       " 'cost',\n",
       " 'of',\n",
       " 'the',\n",
       " 'UK',\n",
       " 'being',\n",
       " 'in',\n",
       " 'the',\n",
       " 'EU',\n",
       " 'is',\n",
       " 'estimated',\n",
       " 'to',\n",
       " 'be',\n",
       " 'costing',\n",
       " 'Britain',\n",
       " '£170',\n",
       " 'billion',\n",
       " 'per',\n",
       " 'year!',\n",
       " '#BetterOffOut',\n",
       " '#UKIP\",',\n",
       " '\"in_reply_to_user_id_str\":',\n",
       " 'null,',\n",
       " '\"lang\":',\n",
       " '\"en\",',\n",
       " '\"retweet_count\":',\n",
       " '11,',\n",
       " '\"user\":',\n",
       " '{\"statuses_count\":',\n",
       " '4589,',\n",
       " '\"id_str\":',\n",
       " '\"929903647\",',\n",
       " '\"followers_count\":',\n",
       " '2973,',\n",
       " '\"listed_count\":',\n",
       " '39,',\n",
       " '\"geo_enabled\":',\n",
       " 'false,',\n",
       " '\"cre']"
      ]
     },
     "execution_count": 16,
     "metadata": {},
     "output_type": "execute_result"
    }
   ],
   "source": [
    "twitter_text.split()"
   ]
  },
  {
   "cell_type": "code",
   "execution_count": 17,
   "id": "c837552b-dc84-4392-8fa9-4df53fec3ae7",
   "metadata": {
    "tags": []
   },
   "outputs": [
    {
     "name": "stderr",
     "output_type": "stream",
     "text": [
      "[nltk_data] Downloading package punkt to /home/user/nltk_data...\n",
      "[nltk_data]   Package punkt is already up-to-date!\n"
     ]
    },
    {
     "data": {
      "text/plain": [
       "True"
      ]
     },
     "execution_count": 17,
     "metadata": {},
     "output_type": "execute_result"
    }
   ],
   "source": [
    "nltk.download(\"punkt\")"
   ]
  },
  {
   "cell_type": "code",
   "execution_count": 18,
   "id": "e7b4896b-ab6e-490a-9f0c-53a2285837e0",
   "metadata": {
    "tags": []
   },
   "outputs": [],
   "source": [
    "twitter_texts =nltk.word_tokenize(twitter_text)"
   ]
  },
  {
   "cell_type": "code",
   "execution_count": 20,
   "id": "be85e8ec-2aea-4de9-84aa-5ce22c901bdd",
   "metadata": {
    "tags": []
   },
   "outputs": [
    {
     "data": {
      "text/plain": [
       "['{',\n",
       " '``',\n",
       " 'in_reply_to_status_id',\n",
       " \"''\",\n",
       " ':',\n",
       " 'null',\n",
       " ',',\n",
       " '``',\n",
       " 'contributors',\n",
       " \"''\",\n",
       " ':',\n",
       " 'null',\n",
       " ',',\n",
       " '``',\n",
       " 'filter_level',\n",
       " \"''\",\n",
       " ':',\n",
       " '``',\n",
       " 'low',\n",
       " \"''\",\n",
       " ',',\n",
       " '``',\n",
       " 'coordinates',\n",
       " \"''\",\n",
       " ':',\n",
       " 'null',\n",
       " ',',\n",
       " '``',\n",
       " 'id_str',\n",
       " \"''\",\n",
       " ':',\n",
       " '``',\n",
       " '593891099434983425',\n",
       " \"''\",\n",
       " ',',\n",
       " '``',\n",
       " 'favorited',\n",
       " \"''\",\n",
       " ':',\n",
       " 'false',\n",
       " ',',\n",
       " '``',\n",
       " 'created_at',\n",
       " \"''\",\n",
       " ':',\n",
       " '``',\n",
       " 'Thu',\n",
       " 'Apr',\n",
       " '30',\n",
       " '21:34:06',\n",
       " '+0000',\n",
       " '2015',\n",
       " \"''\",\n",
       " ',',\n",
       " '``',\n",
       " 'favorite_count',\n",
       " \"''\",\n",
       " ':',\n",
       " '0',\n",
       " ',',\n",
       " '``',\n",
       " 'in_reply_to_status_id_str',\n",
       " \"''\",\n",
       " ':',\n",
       " 'null',\n",
       " ',',\n",
       " '``',\n",
       " 'retweeted_status',\n",
       " \"''\",\n",
       " ':',\n",
       " '{',\n",
       " '``',\n",
       " 'in_reply_to_status_id',\n",
       " \"''\",\n",
       " ':',\n",
       " 'null',\n",
       " ',',\n",
       " '``',\n",
       " 'contributors',\n",
       " \"''\",\n",
       " ':',\n",
       " 'null',\n",
       " ',',\n",
       " '``',\n",
       " 'filter_level',\n",
       " \"''\",\n",
       " ':',\n",
       " '``',\n",
       " 'low',\n",
       " \"''\",\n",
       " ',',\n",
       " '``',\n",
       " 'coordinates',\n",
       " \"''\",\n",
       " ':',\n",
       " 'null',\n",
       " ',',\n",
       " '``',\n",
       " 'id_str',\n",
       " \"''\",\n",
       " ':',\n",
       " '``',\n",
       " '593885295323521025',\n",
       " \"''\",\n",
       " ',',\n",
       " '``',\n",
       " 'favorited',\n",
       " \"''\",\n",
       " ':',\n",
       " 'false',\n",
       " ',',\n",
       " '``',\n",
       " 'created_at',\n",
       " \"''\",\n",
       " ':',\n",
       " '``',\n",
       " 'Thu',\n",
       " 'Apr',\n",
       " '30',\n",
       " '21:11:02',\n",
       " '+0000',\n",
       " '2015',\n",
       " \"''\",\n",
       " ',',\n",
       " '``',\n",
       " 'favorite_count',\n",
       " \"''\",\n",
       " ':',\n",
       " '3',\n",
       " ',',\n",
       " '``',\n",
       " 'in_reply_to_status_id_str',\n",
       " \"''\",\n",
       " ':',\n",
       " 'null',\n",
       " ',',\n",
       " '``',\n",
       " 'in_reply_to_user_id',\n",
       " \"''\",\n",
       " ':',\n",
       " 'null',\n",
       " ',',\n",
       " '``',\n",
       " 'in_reply_to_screen_name',\n",
       " \"''\",\n",
       " ':',\n",
       " 'null',\n",
       " ',',\n",
       " '``',\n",
       " 'place',\n",
       " \"''\",\n",
       " ':',\n",
       " 'null',\n",
       " ',',\n",
       " '``',\n",
       " 'id',\n",
       " \"''\",\n",
       " ':',\n",
       " '593885295323521025',\n",
       " ',',\n",
       " '``',\n",
       " 'retweeted',\n",
       " \"''\",\n",
       " ':',\n",
       " 'false',\n",
       " ',',\n",
       " '``',\n",
       " 'truncated',\n",
       " \"''\",\n",
       " ':',\n",
       " 'false',\n",
       " ',',\n",
       " '``',\n",
       " 'text',\n",
       " \"''\",\n",
       " ':',\n",
       " '``',\n",
       " 'Indirect',\n",
       " 'cost',\n",
       " 'of',\n",
       " 'the',\n",
       " 'UK',\n",
       " 'being',\n",
       " 'in',\n",
       " 'the',\n",
       " 'EU',\n",
       " 'is',\n",
       " 'estimated',\n",
       " 'to',\n",
       " 'be',\n",
       " 'costing',\n",
       " 'Britain',\n",
       " '£170',\n",
       " 'billion',\n",
       " 'per',\n",
       " 'year',\n",
       " '!',\n",
       " '#',\n",
       " 'BetterOffOut',\n",
       " '#',\n",
       " 'UKIP',\n",
       " \"''\",\n",
       " ',',\n",
       " '``',\n",
       " 'in_reply_to_user_id_str',\n",
       " \"''\",\n",
       " ':',\n",
       " 'null',\n",
       " ',',\n",
       " '``',\n",
       " 'lang',\n",
       " \"''\",\n",
       " ':',\n",
       " '``',\n",
       " 'en',\n",
       " \"''\",\n",
       " ',',\n",
       " '``',\n",
       " 'retweet_count',\n",
       " \"''\",\n",
       " ':',\n",
       " '11',\n",
       " ',',\n",
       " '``',\n",
       " 'user',\n",
       " \"''\",\n",
       " ':',\n",
       " '{',\n",
       " '``',\n",
       " 'statuses_count',\n",
       " \"''\",\n",
       " ':',\n",
       " '4589',\n",
       " ',',\n",
       " '``',\n",
       " 'id_str',\n",
       " \"''\",\n",
       " ':',\n",
       " '``',\n",
       " '929903647',\n",
       " \"''\",\n",
       " ',',\n",
       " '``',\n",
       " 'followers_count',\n",
       " \"''\",\n",
       " ':',\n",
       " '2973',\n",
       " ',',\n",
       " '``',\n",
       " 'listed_count',\n",
       " \"''\",\n",
       " ':',\n",
       " '39',\n",
       " ',',\n",
       " '``',\n",
       " 'geo_enabled',\n",
       " \"''\",\n",
       " ':',\n",
       " 'false',\n",
       " ',',\n",
       " '``',\n",
       " 'cre']"
      ]
     },
     "execution_count": 20,
     "metadata": {},
     "output_type": "execute_result"
    }
   ],
   "source": [
    "twitter_texts"
   ]
  },
  {
   "cell_type": "code",
   "execution_count": 35,
   "id": "9e56abc9-aa5c-49b8-a7bb-df0bc14332a6",
   "metadata": {
    "tags": []
   },
   "outputs": [
    {
     "data": {
      "text/plain": [
       "{'{': True,\n",
       " '``': True,\n",
       " 'in_reply_to_status_id': True,\n",
       " \"''\": True,\n",
       " ':': True,\n",
       " 'null': True,\n",
       " ',': True,\n",
       " 'contributors': True,\n",
       " 'filter_level': True,\n",
       " 'low': True,\n",
       " 'coordinates': True,\n",
       " 'id_str': True,\n",
       " '593891099434983425': True,\n",
       " 'favorited': True,\n",
       " 'false': True,\n",
       " 'created_at': True,\n",
       " 'Thu': True,\n",
       " 'Apr': True,\n",
       " '30': True,\n",
       " '21:34:06': True,\n",
       " '+0000': True,\n",
       " '2015': True,\n",
       " 'favorite_count': True,\n",
       " '0': True,\n",
       " 'in_reply_to_status_id_str': True,\n",
       " 'retweeted_status': True,\n",
       " '593885295323521025': True,\n",
       " '21:11:02': True,\n",
       " '3': True,\n",
       " 'in_reply_to_user_id': True,\n",
       " 'in_reply_to_screen_name': True,\n",
       " 'place': True,\n",
       " 'id': True,\n",
       " 'retweeted': True,\n",
       " 'truncated': True,\n",
       " 'text': True,\n",
       " 'Indirect': True,\n",
       " 'cost': True,\n",
       " 'of': True,\n",
       " 'the': True,\n",
       " 'UK': True,\n",
       " 'being': True,\n",
       " 'in': True,\n",
       " 'EU': True,\n",
       " 'is': True,\n",
       " 'estimated': True,\n",
       " 'to': True,\n",
       " 'be': True,\n",
       " 'costing': True,\n",
       " 'Britain': True,\n",
       " '£170': True,\n",
       " 'billion': True,\n",
       " 'per': True,\n",
       " 'year': True,\n",
       " '!': True,\n",
       " '#': True,\n",
       " 'BetterOffOut': True,\n",
       " 'UKIP': True,\n",
       " 'in_reply_to_user_id_str': True,\n",
       " 'lang': True,\n",
       " 'en': True,\n",
       " 'retweet_count': True,\n",
       " '11': True,\n",
       " 'user': True,\n",
       " 'statuses_count': True,\n",
       " '4589': True,\n",
       " '929903647': True,\n",
       " 'followers_count': True,\n",
       " '2973': True,\n",
       " 'listed_count': True,\n",
       " '39': True,\n",
       " 'geo_enabled': True,\n",
       " 'cre': True}"
      ]
     },
     "execution_count": 35,
     "metadata": {},
     "output_type": "execute_result"
    }
   ],
   "source": [
    "{word: True for word in twitter_texts}"
   ]
  },
  {
   "cell_type": "code",
   "execution_count": 36,
   "id": "e289cf89-8b66-47a3-94e2-9a02fa548606",
   "metadata": {
    "tags": []
   },
   "outputs": [
    {
     "data": {
      "text/plain": [
       "dict"
      ]
     },
     "execution_count": 36,
     "metadata": {},
     "output_type": "execute_result"
    }
   ],
   "source": [
    "type(_)"
   ]
  },
  {
   "cell_type": "code",
   "execution_count": 21,
   "id": "d8506f55-1923-4d24-9d3e-b145d2ddd90c",
   "metadata": {
    "tags": []
   },
   "outputs": [],
   "source": [
    "def build_bag_of_words_features(words):\n",
    "    return {word: True for word in words}"
   ]
  },
  {
   "cell_type": "code",
   "execution_count": 22,
   "id": "3fb0ee73-44cc-4861-aa83-56e1774cfe97",
   "metadata": {
    "tags": []
   },
   "outputs": [
    {
     "data": {
      "text/plain": [
       "{'{': True,\n",
       " '``': True,\n",
       " 'in_reply_to_status_id': True,\n",
       " \"''\": True,\n",
       " ':': True,\n",
       " 'null': True,\n",
       " ',': True,\n",
       " 'contributors': True,\n",
       " 'filter_level': True,\n",
       " 'low': True,\n",
       " 'coordinates': True,\n",
       " 'id_str': True,\n",
       " '593891099434983425': True,\n",
       " 'favorited': True,\n",
       " 'false': True,\n",
       " 'created_at': True,\n",
       " 'Thu': True,\n",
       " 'Apr': True,\n",
       " '30': True,\n",
       " '21:34:06': True,\n",
       " '+0000': True,\n",
       " '2015': True,\n",
       " 'favorite_count': True,\n",
       " '0': True,\n",
       " 'in_reply_to_status_id_str': True,\n",
       " 'retweeted_status': True,\n",
       " '593885295323521025': True,\n",
       " '21:11:02': True,\n",
       " '3': True,\n",
       " 'in_reply_to_user_id': True,\n",
       " 'in_reply_to_screen_name': True,\n",
       " 'place': True,\n",
       " 'id': True,\n",
       " 'retweeted': True,\n",
       " 'truncated': True,\n",
       " 'text': True,\n",
       " 'Indirect': True,\n",
       " 'cost': True,\n",
       " 'of': True,\n",
       " 'the': True,\n",
       " 'UK': True,\n",
       " 'being': True,\n",
       " 'in': True,\n",
       " 'EU': True,\n",
       " 'is': True,\n",
       " 'estimated': True,\n",
       " 'to': True,\n",
       " 'be': True,\n",
       " 'costing': True,\n",
       " 'Britain': True,\n",
       " '£170': True,\n",
       " 'billion': True,\n",
       " 'per': True,\n",
       " 'year': True,\n",
       " '!': True,\n",
       " '#': True,\n",
       " 'BetterOffOut': True,\n",
       " 'UKIP': True,\n",
       " 'in_reply_to_user_id_str': True,\n",
       " 'lang': True,\n",
       " 'en': True,\n",
       " 'retweet_count': True,\n",
       " '11': True,\n",
       " 'user': True,\n",
       " 'statuses_count': True,\n",
       " '4589': True,\n",
       " '929903647': True,\n",
       " 'followers_count': True,\n",
       " '2973': True,\n",
       " 'listed_count': True,\n",
       " '39': True,\n",
       " 'geo_enabled': True,\n",
       " 'cre': True}"
      ]
     },
     "execution_count": 22,
     "metadata": {},
     "output_type": "execute_result"
    }
   ],
   "source": [
    "build_bag_of_words_features(twitter_texts)"
   ]
  },
  {
   "cell_type": "code",
   "execution_count": 23,
   "id": "4e4e3fc7-7cad-4232-a975-bc4109889466",
   "metadata": {
    "tags": []
   },
   "outputs": [
    {
     "name": "stderr",
     "output_type": "stream",
     "text": [
      "[nltk_data] Downloading package stopwords to /home/user/nltk_data...\n",
      "[nltk_data]   Package stopwords is already up-to-date!\n"
     ]
    },
    {
     "data": {
      "text/plain": [
       "True"
      ]
     },
     "execution_count": 23,
     "metadata": {},
     "output_type": "execute_result"
    }
   ],
   "source": [
    "nltk.download(\"stopwords\")"
   ]
  },
  {
   "cell_type": "code",
   "execution_count": 24,
   "id": "8b710336-e8a6-468e-b27a-ef46393e23dc",
   "metadata": {
    "tags": []
   },
   "outputs": [],
   "source": [
    "import  string"
   ]
  },
  {
   "cell_type": "code",
   "execution_count": 25,
   "id": "a4b0f0ec-7d74-4ecb-9253-2d750c79d857",
   "metadata": {
    "tags": []
   },
   "outputs": [
    {
     "data": {
      "text/plain": [
       "'!\"#$%&\\'()*+,-./:;<=>?@[\\\\]^_`{|}~'"
      ]
     },
     "execution_count": 25,
     "metadata": {},
     "output_type": "execute_result"
    }
   ],
   "source": [
    "string.punctuation"
   ]
  },
  {
   "cell_type": "code",
   "execution_count": 26,
   "id": "7f0b8c2e-ee9e-40b1-9cac-b466b92ce882",
   "metadata": {
    "tags": []
   },
   "outputs": [
    {
     "data": {
      "text/plain": [
       "['!',\n",
       " '\"',\n",
       " '#',\n",
       " '$',\n",
       " '%',\n",
       " '&',\n",
       " \"'\",\n",
       " '(',\n",
       " ')',\n",
       " '*',\n",
       " '+',\n",
       " ',',\n",
       " '-',\n",
       " '.',\n",
       " '/',\n",
       " ':',\n",
       " ';',\n",
       " '<',\n",
       " '=',\n",
       " '>',\n",
       " '?',\n",
       " '@',\n",
       " '[',\n",
       " '\\\\',\n",
       " ']',\n",
       " '^',\n",
       " '_',\n",
       " '`',\n",
       " '{',\n",
       " '|',\n",
       " '}',\n",
       " '~']"
      ]
     },
     "execution_count": 26,
     "metadata": {},
     "output_type": "execute_result"
    }
   ],
   "source": [
    "useless_words =nltk.corpus.stopwords.words(\"english\") \n",
    "list(string.punctuation)"
   ]
  },
  {
   "cell_type": "code",
   "execution_count": 37,
   "id": "0c6c1400-71dd-48ab-90a2-3c1689162ff7",
   "metadata": {
    "tags": []
   },
   "outputs": [
    {
     "data": {
      "text/plain": [
       "['i',\n",
       " 'me',\n",
       " 'my',\n",
       " 'myself',\n",
       " 'we',\n",
       " 'our',\n",
       " 'ours',\n",
       " 'ourselves',\n",
       " 'you',\n",
       " \"you're\",\n",
       " \"you've\",\n",
       " \"you'll\",\n",
       " \"you'd\",\n",
       " 'your',\n",
       " 'yours',\n",
       " 'yourself',\n",
       " 'yourselves',\n",
       " 'he',\n",
       " 'him',\n",
       " 'his',\n",
       " 'himself',\n",
       " 'she',\n",
       " \"she's\",\n",
       " 'her',\n",
       " 'hers',\n",
       " 'herself',\n",
       " 'it',\n",
       " \"it's\",\n",
       " 'its',\n",
       " 'itself',\n",
       " 'they',\n",
       " 'them',\n",
       " 'their',\n",
       " 'theirs',\n",
       " 'themselves',\n",
       " 'what',\n",
       " 'which',\n",
       " 'who',\n",
       " 'whom',\n",
       " 'this',\n",
       " 'that',\n",
       " \"that'll\",\n",
       " 'these',\n",
       " 'those',\n",
       " 'am',\n",
       " 'is',\n",
       " 'are',\n",
       " 'was',\n",
       " 'were',\n",
       " 'be',\n",
       " 'been',\n",
       " 'being',\n",
       " 'have',\n",
       " 'has',\n",
       " 'had',\n",
       " 'having',\n",
       " 'do',\n",
       " 'does',\n",
       " 'did',\n",
       " 'doing',\n",
       " 'a',\n",
       " 'an',\n",
       " 'the',\n",
       " 'and',\n",
       " 'but',\n",
       " 'if',\n",
       " 'or',\n",
       " 'because',\n",
       " 'as',\n",
       " 'until',\n",
       " 'while',\n",
       " 'of',\n",
       " 'at',\n",
       " 'by',\n",
       " 'for',\n",
       " 'with',\n",
       " 'about',\n",
       " 'against',\n",
       " 'between',\n",
       " 'into',\n",
       " 'through',\n",
       " 'during',\n",
       " 'before',\n",
       " 'after',\n",
       " 'above',\n",
       " 'below',\n",
       " 'to',\n",
       " 'from',\n",
       " 'up',\n",
       " 'down',\n",
       " 'in',\n",
       " 'out',\n",
       " 'on',\n",
       " 'off',\n",
       " 'over',\n",
       " 'under',\n",
       " 'again',\n",
       " 'further',\n",
       " 'then',\n",
       " 'once',\n",
       " 'here',\n",
       " 'there',\n",
       " 'when',\n",
       " 'where',\n",
       " 'why',\n",
       " 'how',\n",
       " 'all',\n",
       " 'any',\n",
       " 'both',\n",
       " 'each',\n",
       " 'few',\n",
       " 'more',\n",
       " 'most',\n",
       " 'other',\n",
       " 'some',\n",
       " 'such',\n",
       " 'no',\n",
       " 'nor',\n",
       " 'not',\n",
       " 'only',\n",
       " 'own',\n",
       " 'same',\n",
       " 'so',\n",
       " 'than',\n",
       " 'too',\n",
       " 'very',\n",
       " 's',\n",
       " 't',\n",
       " 'can',\n",
       " 'will',\n",
       " 'just',\n",
       " 'don',\n",
       " \"don't\",\n",
       " 'should',\n",
       " \"should've\",\n",
       " 'now',\n",
       " 'd',\n",
       " 'll',\n",
       " 'm',\n",
       " 'o',\n",
       " 're',\n",
       " 've',\n",
       " 'y',\n",
       " 'ain',\n",
       " 'aren',\n",
       " \"aren't\",\n",
       " 'couldn',\n",
       " \"couldn't\",\n",
       " 'didn',\n",
       " \"didn't\",\n",
       " 'doesn',\n",
       " \"doesn't\",\n",
       " 'hadn',\n",
       " \"hadn't\",\n",
       " 'hasn',\n",
       " \"hasn't\",\n",
       " 'haven',\n",
       " \"haven't\",\n",
       " 'isn',\n",
       " \"isn't\",\n",
       " 'ma',\n",
       " 'mightn',\n",
       " \"mightn't\",\n",
       " 'mustn',\n",
       " \"mustn't\",\n",
       " 'needn',\n",
       " \"needn't\",\n",
       " 'shan',\n",
       " \"shan't\",\n",
       " 'shouldn',\n",
       " \"shouldn't\",\n",
       " 'wasn',\n",
       " \"wasn't\",\n",
       " 'weren',\n",
       " \"weren't\",\n",
       " 'won',\n",
       " \"won't\",\n",
       " 'wouldn',\n",
       " \"wouldn't\"]"
      ]
     },
     "execution_count": 37,
     "metadata": {},
     "output_type": "execute_result"
    }
   ],
   "source": [
    "useless_words"
   ]
  },
  {
   "cell_type": "code",
   "execution_count": 27,
   "id": "5db9d95d-0c5d-44f6-b0a9-47aed611d7f7",
   "metadata": {
    "tags": []
   },
   "outputs": [],
   "source": [
    "def build_bag_of_words_features_filtered(words):\n",
    "    return {\n",
    "        word:1 for word in words \\\n",
    "        if not word in useless_words}"
   ]
  },
  {
   "cell_type": "code",
   "execution_count": 28,
   "id": "b9ca40af-76e0-4652-811c-08d839536655",
   "metadata": {
    "tags": []
   },
   "outputs": [
    {
     "data": {
      "text/plain": [
       "{'{': 1,\n",
       " '``': 1,\n",
       " 'in_reply_to_status_id': 1,\n",
       " \"''\": 1,\n",
       " ':': 1,\n",
       " 'null': 1,\n",
       " ',': 1,\n",
       " 'contributors': 1,\n",
       " 'filter_level': 1,\n",
       " 'low': 1,\n",
       " 'coordinates': 1,\n",
       " 'id_str': 1,\n",
       " '593891099434983425': 1,\n",
       " 'favorited': 1,\n",
       " 'false': 1,\n",
       " 'created_at': 1,\n",
       " 'Thu': 1,\n",
       " 'Apr': 1,\n",
       " '30': 1,\n",
       " '21:34:06': 1,\n",
       " '+0000': 1,\n",
       " '2015': 1,\n",
       " 'favorite_count': 1,\n",
       " '0': 1,\n",
       " 'in_reply_to_status_id_str': 1,\n",
       " 'retweeted_status': 1,\n",
       " '593885295323521025': 1,\n",
       " '21:11:02': 1,\n",
       " '3': 1,\n",
       " 'in_reply_to_user_id': 1,\n",
       " 'in_reply_to_screen_name': 1,\n",
       " 'place': 1,\n",
       " 'id': 1,\n",
       " 'retweeted': 1,\n",
       " 'truncated': 1,\n",
       " 'text': 1,\n",
       " 'Indirect': 1,\n",
       " 'cost': 1,\n",
       " 'UK': 1,\n",
       " 'EU': 1,\n",
       " 'estimated': 1,\n",
       " 'costing': 1,\n",
       " 'Britain': 1,\n",
       " '£170': 1,\n",
       " 'billion': 1,\n",
       " 'per': 1,\n",
       " 'year': 1,\n",
       " '!': 1,\n",
       " '#': 1,\n",
       " 'BetterOffOut': 1,\n",
       " 'UKIP': 1,\n",
       " 'in_reply_to_user_id_str': 1,\n",
       " 'lang': 1,\n",
       " 'en': 1,\n",
       " 'retweet_count': 1,\n",
       " '11': 1,\n",
       " 'user': 1,\n",
       " 'statuses_count': 1,\n",
       " '4589': 1,\n",
       " '929903647': 1,\n",
       " 'followers_count': 1,\n",
       " '2973': 1,\n",
       " 'listed_count': 1,\n",
       " '39': 1,\n",
       " 'geo_enabled': 1,\n",
       " 'cre': 1}"
      ]
     },
     "execution_count": 28,
     "metadata": {},
     "output_type": "execute_result"
    }
   ],
   "source": [
    "build_bag_of_words_features_filtered(twitter_texts)"
   ]
  },
  {
   "cell_type": "code",
   "execution_count": 29,
   "id": "205f82de-55f6-4040-b88c-7ece17ccf98b",
   "metadata": {
    "tags": []
   },
   "outputs": [
    {
     "name": "stdout",
     "output_type": "stream",
     "text": [
      "Requirement already satisfied: wordcloud in /home/user/anaconda3/lib/python3.11/site-packages (1.9.2)\n",
      "Requirement already satisfied: numpy>=1.6.1 in /home/user/anaconda3/lib/python3.11/site-packages (from wordcloud) (1.24.3)\n",
      "Requirement already satisfied: pillow in /home/user/anaconda3/lib/python3.11/site-packages (from wordcloud) (9.4.0)\n",
      "Requirement already satisfied: matplotlib in /home/user/anaconda3/lib/python3.11/site-packages (from wordcloud) (3.7.1)\n",
      "Requirement already satisfied: contourpy>=1.0.1 in /home/user/anaconda3/lib/python3.11/site-packages (from matplotlib->wordcloud) (1.0.5)\n",
      "Requirement already satisfied: cycler>=0.10 in /home/user/anaconda3/lib/python3.11/site-packages (from matplotlib->wordcloud) (0.11.0)\n",
      "Requirement already satisfied: fonttools>=4.22.0 in /home/user/anaconda3/lib/python3.11/site-packages (from matplotlib->wordcloud) (4.25.0)\n",
      "Requirement already satisfied: kiwisolver>=1.0.1 in /home/user/anaconda3/lib/python3.11/site-packages (from matplotlib->wordcloud) (1.4.4)\n",
      "Requirement already satisfied: packaging>=20.0 in /home/user/anaconda3/lib/python3.11/site-packages (from matplotlib->wordcloud) (23.0)\n",
      "Requirement already satisfied: pyparsing>=2.3.1 in /home/user/anaconda3/lib/python3.11/site-packages (from matplotlib->wordcloud) (3.0.9)\n",
      "Requirement already satisfied: python-dateutil>=2.7 in /home/user/anaconda3/lib/python3.11/site-packages (from matplotlib->wordcloud) (2.8.2)\n",
      "Requirement already satisfied: six>=1.5 in /home/user/anaconda3/lib/python3.11/site-packages (from python-dateutil>=2.7->matplotlib->wordcloud) (1.16.0)\n",
      "Note: you may need to restart the kernel to use updated packages.\n"
     ]
    }
   ],
   "source": [
    "pip install wordcloud"
   ]
  },
  {
   "cell_type": "code",
   "execution_count": 30,
   "id": "8c3241f1-1749-4367-b916-249f7b4d968c",
   "metadata": {
    "tags": []
   },
   "outputs": [],
   "source": [
    "import matplotlib.pyplot as plt\n",
    "from wordcloud import WordCloud"
   ]
  },
  {
   "cell_type": "code",
   "execution_count": 31,
   "id": "c4ef854c-b330-4491-baf0-640383d63bb9",
   "metadata": {
    "tags": []
   },
   "outputs": [],
   "source": [
    "twitter_text=\"\"\"{\"in_reply_to_status_id\": null, \"contributors\": null, \"filter_level\": \"low\", \"coordinates\": null, \"id_str\": \"593891099434983425\", \"favorited\": false, \"created_at\": \"Thu Apr 30 21:34:06 +0000 2015\", \"favorite_count\": 0, \"in_reply_to_status_id_str\": null, \"retweeted_status\": {\"in_reply_to_status_id\": null, \"contributors\": null, \"filter_level\": \"low\", \"coordinates\": null, \"id_str\": \"593885295323521025\", \"favorited\": false, \"created_at\": \"Thu Apr 30 21:11:02 +0000 2015\", \"favorite_count\": 3, \"in_reply_to_status_id_str\": null, \"in_reply_to_user_id\": null, \"in_reply_to_screen_name\": null, \"place\": null, \"id\": 593885295323521025, \"retweeted\": false, \"truncated\": false, \"text\": \"Indirect cost of the UK being in the EU is estimated to be costing Britain \\u00a3170 billion per year! #BetterOffOut #UKIP\", \"in_reply_to_user_id_str\": null, \"lang\": \"en\", \"retweet_count\": 11, \"user\": {\"statuses_count\": 4589, \"id_str\": \"929903647\", \"followers_count\": 2973, \"listed_count\": 39, \"geo_enabled\": false, \"cre \"\"\""
   ]
  },
  {
   "cell_type": "code",
   "execution_count": 34,
   "id": "2df61e2c-9ccc-4c12-a395-afcf4bcc9167",
   "metadata": {
    "tags": []
   },
   "outputs": [
    {
     "data": {
      "image/png": "[encoded data removed]",
      "text/plain": [
       "<Figure size 1000x500 with 1 Axes>"
      ]
     },
     "metadata": {},
     "output_type": "display_data"
    }
   ],
   "source": [
    "wordcloud =WordCloud(width =800,height =400, background_color =\"white\").generate(twitter_text)\n",
    "plt.figure(figsize =(10,5))\n",
    "plt.imshow(wordcloud,interpolation ='bilinear')\n",
    "plt.axis('off')\n",
    "plt.show()"
   ]
  },
  {
   "cell_type": "code",
   "execution_count": 44,
   "id": "75a3ce0b-9de1-47a6-ac73-9d5f8bbc46fc",
   "metadata": {
    "tags": []
   },
   "outputs": [
    {
     "ename": "AttributeError",
     "evalue": "'TwitterCorpusReader' object has no attribute 'words'",
     "output_type": "error",
     "traceback": [
      "\u001b[0;31m---------------------------------------------------------------------------\u001b[0m",
      "\u001b[0;31mAttributeError\u001b[0m                            Traceback (most recent call last)",
      "Cell \u001b[0;32mIn[44], line 1\u001b[0m\n\u001b[0;32m----> 1\u001b[0m all_words \u001b[38;5;241m=\u001b[39m twitter_samples\u001b[38;5;241m.\u001b[39mwords()\n\u001b[1;32m      2\u001b[0m \u001b[38;5;28mlen\u001b[39m(all_words) \u001b[38;5;241m/\u001b[39m \u001b[38;5;241m1e6\u001b[39m\n",
      "\u001b[0;31mAttributeError\u001b[0m: 'TwitterCorpusReader' object has no attribute 'words'"
     ]
    }
   ],
   "source": [
    "all_words = twitter_samples.words()\n",
    "len(all_words) / 1e6"
   ]
  },
  {
   "cell_type": "code",
   "execution_count": null,
   "id": "1235650e-2b00-4198-829c-caa53bb376bc",
   "metadata": {},
   "outputs": [],
   "source": []
  }
 ],
 "metadata": {
  "kernelspec": {
   "display_name": "Python 3 (ipykernel)",
   "language": "python",
   "name": "python3"
  },
  "language_info": {
   "codemirror_mode": {
    "name": "ipython",
    "version": 3
   },
   "file_extension": ".py",
   "mimetype": "text/x-python",
   "name": "python",
   "nbconvert_exporter": "python",
   "pygments_lexer": "ipython3",
   "version": "3.11.4"
  }
 },
 "nbformat": 4,
 "nbformat_minor": 5
}
